{
 "cells": [
  {
   "cell_type": "code",
   "execution_count": 1,
   "metadata": {},
   "outputs": [],
   "source": [
    "import pandas as pd\n",
    "import numpy as np\n",
    "import os\n",
    "import datetime as dt\n",
    "import calendar\n",
    "from matplotlib import pyplot as plt\n",
    "import matplotlib.ticker as ptick \n",
    "import scipy.stats as stats\n",
    "import glob\n",
    "\n",
    "from sklearn.model_selection import train_test_split\n",
    "from sklearn.linear_model import LinearRegression\n",
    "from sklearn.preprocessing import StandardScaler\n",
    "\n",
    "from mpl_toolkits.mplot3d import Axes3D  #3Dplot\n",
    "import seaborn as sns\n",
    "import japanize_matplotlib\n",
    "\n",
    "\n",
    "from sklearn.linear_model import LogisticRegression\n",
    "from sklearn.metrics import confusion_matrix, accuracy_score, precision_score, recall_score, f1_score\n",
    "\n",
    "# Mean Absolute Error(MAE)用 \n",
    "from sklearn.metrics import mean_absolute_error \n",
    "# Root Mean Squared Error(RMSE)用 \n",
    "from sklearn.metrics import mean_squared_error\n"
   ]
  },
  {
   "cell_type": "code",
   "execution_count": 73,
   "metadata": {},
   "outputs": [],
   "source": [
    "files = glob.glob('../../../卒論関連書類/データ/king_history/king_history1/*')\n",
    "version = len(files)-1\n",
    "df_king =pd.read_csv(f'../../../卒論関連書類/データ/king_history/king_history1/king{version}.csv',converters={'DateTime':pd.to_datetime})\n",
    "\n",
    "cols =['DateTime', 'intra_volume（MWh/h）',\n",
    "       'spot_volume(kWh)']\n",
    "df_select =df_king[cols]\n",
    "\n",
    "percent_list=[]\n",
    "intra_total_mean =[]\n",
    "years = [2018,2019,2020,2021,2022]\n",
    "for year in years :\n",
    "    df = df_select[df_select['DateTime'].dt.year == year]\n",
    "    percent =round(np.sum(df['intra_volume（MWh/h）']*1000)/(np.sum(df['spot_volume(kWh)']) + np.sum(df['intra_volume（MWh/h）']*1000))*100,1)\n",
    "    percent_list.append(percent)\n",
    "    intra_total_mean.append(np.sum(df['intra_volume（MWh/h）']*1000))\n",
    "\n",
    "years = ['2018', '2019', '2020', '2021', '2022', '2018-2022']\n",
    "\n",
    "percent_list.append(round(np.sum(df_select['intra_volume（MWh/h）']*1000)/(np.sum(df_select['spot_volume(kWh)']) + np.sum(df_select['intra_volume（MWh/h）']*1000))*100,1))\n",
    "intra_total_mean.append(np.sum(df_select['intra_volume（MWh/h）']*1000)/len(years))\n",
    "\n",
    "years_name = np.array(years,dtype='str')"
   ]
  },
  {
   "cell_type": "code",
   "execution_count": 78,
   "metadata": {},
   "outputs": [],
   "source": [
    "def drow2plot(x,y_bar,y_plot):\n",
    "    x=x\n",
    "    y1 = y_bar\n",
    "    y2 = y_plot\n",
    "\n",
    "    fig = plt.figure()\n",
    "\n",
    "    ax1 = fig.subplots()\n",
    "    ax2 = ax1.twinx()\n",
    "    ax1.set_zorder(2)\n",
    "    ax2.set_zorder(1)\n",
    "    ax1.patch.set_alpha(0)\n",
    "    ax1.set_ylabel('時\\n間\\n前\\n市\\n場\\nの\\n割\\n合\\n(%)',rotation =0,loc ='center')\n",
    "    \n",
    "    ax1.set_ylim(0,10)\n",
    "    ax2.yaxis.set_major_formatter(ptick.ScalarFormatter(useMathText=True))   # こっちを先に書くこと。\n",
    "    ax2.ticklabel_format(style=\"sci\", axis=\"y\", scilimits=(3,3))   # 10^3単位の指数で表示する。\n",
    "\n",
    "    ax2.set_ylabel('\\n\\n\\n\\n\\n時\\n間\\n前\\n市\\n場\\nの\\n年\\n間\\n取\\n引\\n量\\n(MWh/h)',rotation =0,loc ='top',labelpad=10)\n",
    "    # ax2.set_ylim(0,10)\n",
    "\n",
    "    ax1.plot(x, y2,color ='black'\n",
    "    ,label='割合'\n",
    "    )\n",
    "    ax1.legend()\n",
    "\n",
    "    ax2.bar(x, y1,color ='grey',label='取引量')\n",
    "    plt.savefig('../../../卒論関連書類/画像/卒論用画像/時間前市場割合.png',bbox_inches='tight')\n",
    "    ax2.legend(bbox_to_anchor=(0.5, -0.1, 0.5, 1))\n",
    "\n",
    "    plt.show()"
   ]
  },
  {
   "cell_type": "code",
   "execution_count": 79,
   "metadata": {},
   "outputs": [
    {
     "data": {
      "image/png": "[encoded data removed]",
      "text/plain": [
       "<Figure size 640x480 with 2 Axes>"
      ]
     },
     "metadata": {},
     "output_type": "display_data"
    }
   ],
   "source": [
    "\n",
    "drow2plot(years_name,np.array(intra_total_mean)/1000,percent_list)"
   ]
  },
  {
   "cell_type": "code",
   "execution_count": 40,
   "metadata": {},
   "outputs": [
    {
     "data": {
      "text/plain": [
       "array(['2018', '2019', '2020', '2021', '2022', '2018-2022'], dtype='<U9')"
      ]
     },
     "execution_count": 40,
     "metadata": {},
     "output_type": "execute_result"
    }
   ],
   "source": [
    "years"
   ]
  },
  {
   "cell_type": "code",
   "execution_count": 21,
   "metadata": {},
   "outputs": [
    {
     "data": {
      "text/plain": [
       "[2.0, 1.5, 2.5, 2.3, 2.9, 2.3]"
      ]
     },
     "execution_count": 21,
     "metadata": {},
     "output_type": "execute_result"
    }
   ],
   "source": [
    "percent_list"
   ]
  },
  {
   "cell_type": "code",
   "execution_count": 82,
   "metadata": {},
   "outputs": [
    {
     "data": {
      "text/plain": [
       "array([3112.2883    , 4273.6031    , 7854.0851    , 7496.7422    ,\n",
       "       9562.2431    , 5406.85518333])"
      ]
     },
     "execution_count": 82,
     "metadata": {},
     "output_type": "execute_result"
    }
   ],
   "source": [
    "np.array(intra_total_mean)/1000/1000"
   ]
  },
  {
   "cell_type": "code",
   "execution_count": 80,
   "metadata": {},
   "outputs": [
    {
     "data": {
      "text/plain": [
       "[3112288300.0,\n",
       " 4273603100.0,\n",
       " 7854085100.0,\n",
       " 7496742200.0,\n",
       " 9562243100.0,\n",
       " 5406855183.333333]"
      ]
     },
     "execution_count": 80,
     "metadata": {},
     "output_type": "execute_result"
    }
   ],
   "source": [
    "intra_total_mean"
   ]
  },
  {
   "cell_type": "code",
   "execution_count": 13,
   "metadata": {},
   "outputs": [
    {
     "data": {
      "text/html": [
       "<div>\n",
       "<style scoped>\n",
       "    .dataframe tbody tr th:only-of-type {\n",
       "        vertical-align: middle;\n",
       "    }\n",
       "\n",
       "    .dataframe tbody tr th {\n",
       "        vertical-align: top;\n",
       "    }\n",
       "\n",
       "    .dataframe thead th {\n",
       "        text-align: right;\n",
       "    }\n",
       "</style>\n",
       "<table border=\"1\" class=\"dataframe\">\n",
       "  <thead>\n",
       "    <tr style=\"text-align: right;\">\n",
       "      <th></th>\n",
       "      <th>DateTime</th>\n",
       "      <th>intra_volume（MWh/h）</th>\n",
       "      <th>spot_volume(kWh)</th>\n",
       "    </tr>\n",
       "  </thead>\n",
       "  <tbody>\n",
       "    <tr>\n",
       "      <th>0</th>\n",
       "      <td>2018-04-01 00:00:00</td>\n",
       "      <td>58.8</td>\n",
       "      <td>6098500</td>\n",
       "    </tr>\n",
       "    <tr>\n",
       "      <th>1</th>\n",
       "      <td>2018-04-01 00:30:00</td>\n",
       "      <td>54.0</td>\n",
       "      <td>6225500</td>\n",
       "    </tr>\n",
       "    <tr>\n",
       "      <th>2</th>\n",
       "      <td>2018-04-01 01:00:00</td>\n",
       "      <td>57.3</td>\n",
       "      <td>6356500</td>\n",
       "    </tr>\n",
       "    <tr>\n",
       "      <th>3</th>\n",
       "      <td>2018-04-01 01:30:00</td>\n",
       "      <td>63.0</td>\n",
       "      <td>6439500</td>\n",
       "    </tr>\n",
       "    <tr>\n",
       "      <th>4</th>\n",
       "      <td>2018-04-01 02:00:00</td>\n",
       "      <td>61.6</td>\n",
       "      <td>6439000</td>\n",
       "    </tr>\n",
       "    <tr>\n",
       "      <th>...</th>\n",
       "      <td>...</td>\n",
       "      <td>...</td>\n",
       "      <td>...</td>\n",
       "    </tr>\n",
       "    <tr>\n",
       "      <th>84410</th>\n",
       "      <td>2023-01-05 21:30:00</td>\n",
       "      <td>NaN</td>\n",
       "      <td>22544600</td>\n",
       "    </tr>\n",
       "    <tr>\n",
       "      <th>84411</th>\n",
       "      <td>2023-01-05 22:00:00</td>\n",
       "      <td>NaN</td>\n",
       "      <td>22180900</td>\n",
       "    </tr>\n",
       "    <tr>\n",
       "      <th>84412</th>\n",
       "      <td>2023-01-05 22:30:00</td>\n",
       "      <td>NaN</td>\n",
       "      <td>22143700</td>\n",
       "    </tr>\n",
       "    <tr>\n",
       "      <th>84413</th>\n",
       "      <td>2023-01-05 23:00:00</td>\n",
       "      <td>NaN</td>\n",
       "      <td>22054200</td>\n",
       "    </tr>\n",
       "    <tr>\n",
       "      <th>84414</th>\n",
       "      <td>2023-01-05 23:30:00</td>\n",
       "      <td>NaN</td>\n",
       "      <td>20802700</td>\n",
       "    </tr>\n",
       "  </tbody>\n",
       "</table>\n",
       "<p>84415 rows × 3 columns</p>\n",
       "</div>"
      ],
      "text/plain": [
       "                 DateTime  intra_volume（MWh/h）  spot_volume(kWh)\n",
       "0     2018-04-01 00:00:00                 58.8           6098500\n",
       "1     2018-04-01 00:30:00                 54.0           6225500\n",
       "2     2018-04-01 01:00:00                 57.3           6356500\n",
       "3     2018-04-01 01:30:00                 63.0           6439500\n",
       "4     2018-04-01 02:00:00                 61.6           6439000\n",
       "...                   ...                  ...               ...\n",
       "84410 2023-01-05 21:30:00                  NaN          22544600\n",
       "84411 2023-01-05 22:00:00                  NaN          22180900\n",
       "84412 2023-01-05 22:30:00                  NaN          22143700\n",
       "84413 2023-01-05 23:00:00                  NaN          22054200\n",
       "84414 2023-01-05 23:30:00                  NaN          20802700\n",
       "\n",
       "[84415 rows x 3 columns]"
      ]
     },
     "execution_count": 13,
     "metadata": {},
     "output_type": "execute_result"
    }
   ],
   "source": [
    "df_select"
   ]
  },
  {
   "cell_type": "code",
   "execution_count": null,
   "metadata": {},
   "outputs": [],
   "source": []
  },
  {
   "cell_type": "code",
   "execution_count": null,
   "metadata": {},
   "outputs": [],
   "source": []
  },
  {
   "cell_type": "code",
   "execution_count": 2,
   "metadata": {},
   "outputs": [],
   "source": [
    "files = glob.glob('../../../卒論関連書類/データ/king_history/king_history1/*')\n",
    "version = len(files)-1\n",
    "df_king =pd.read_csv(f'../../../卒論関連書類/データ/king_history/king_history1/king{version}.csv',converters={'DateTime':pd.to_datetime})"
   ]
  },
  {
   "cell_type": "code",
   "execution_count": 3,
   "metadata": {},
   "outputs": [
    {
     "data": {
      "text/plain": [
       "Index(['DateTime', 'intra_price(円/kWh)', 'spot_price(円/kWh)',\n",
       "       'gap_price[intra-spot](円/kWh)', 'intra_volume（MWh/h）',\n",
       "       'spot_volume(kWh)', '北電太陽光想定(kWh)', '北電風力想定(kWh)', '北電太陽光実績(kWh)',\n",
       "       '北電風力実績(kWh)', '九電太陽光想定(kWh)', '九電太陽光実績(kWh)', '九電風力想定(kWh)',\n",
       "       '九電風力実績(kWh)', '東電太陽光想定(kWh)', '東電太陽光実績(kWh)', '東電風力想定(kWh)',\n",
       "       '東電風力実績(kWh)', '関電太陽光想定(kWh)', '関電太陽光実績(kWh)', '関電風力想定(kWh)',\n",
       "       '関電風力実績(kWh)', '中国太陽光想定(kWh)', '中国風力想定(kWh)', '中国太陽光実績(kWh)',\n",
       "       '中国風力実績(kWh)', '北海道予備率(%)', '東北予備率(%)', '東京予備率(%)', '中部予備率(%)',\n",
       "       '北陸予備率(%)', '関西予備率(%)', '中国予備率(%)', '四国予備率(%)', '九州予備率(%)', '認可出力合計',\n",
       "       '低下量合計', '停止・低下ユニット数合計', '北電太陽光error(実績-想定)(kWh)',\n",
       "       '北電風力error(実績-想定)(kWh)', '九電太陽光error(実績-想定)(kWh)',\n",
       "       '九電風力error(実績-想定)(kWh)', '東電太陽光error(実績-想定)(kWh)',\n",
       "       '東電風力error(実績-想定)(kWh)', '関電太陽光error(実績-想定)(kWh)',\n",
       "       '関電風力error(実績-想定)(kWh)', '中国太陽光error(実績-想定)(kWh)',\n",
       "       '中国風力error(実績-想定)(kWh)', '絶対値北電太陽光error(実績-想定)(kWh)',\n",
       "       '絶対値北電風力error(実績-想定)(kWh)', '絶対値九電太陽光error(実績-想定)(kWh)',\n",
       "       '絶対値九電風力error(実績-想定)(kWh)', '絶対値東電太陽光error(実績-想定)(kWh)',\n",
       "       '絶対値東電風力error(実績-想定)(kWh)', '絶対値関電太陽光error(実績-想定)(kWh)',\n",
       "       '絶対値関電風力error(実績-想定)(kWh)', '絶対値中国太陽光error(実績-想定)(kWh)',\n",
       "       '絶対値中国風力error(実績-想定)(kWh)', '太陽光誤差合算(実績-想定)(kWh)(ならし)',\n",
       "       '風力誤差合算(実績-想定)(kWh)(ならし)', '太陽光絶対値誤差合算(実績-想定)(kWh)',\n",
       "       '風力絶対値誤差合算(実績-想定)(kWh)', '広域予備率平均値(%)'],\n",
       "      dtype='object')"
      ]
     },
     "execution_count": 3,
     "metadata": {},
     "output_type": "execute_result"
    }
   ],
   "source": [
    "df_king.columns"
   ]
  },
  {
   "cell_type": "code",
   "execution_count": 4,
   "metadata": {},
   "outputs": [],
   "source": [
    "cols =['DateTime', 'intra_volume（MWh/h）',\n",
    "       'spot_volume(kWh)']\n",
    "df_select =df_king[cols]"
   ]
  },
  {
   "cell_type": "code",
   "execution_count": 26,
   "metadata": {},
   "outputs": [
    {
     "data": {
      "text/plain": [
       "2.3"
      ]
     },
     "execution_count": 26,
     "metadata": {},
     "output_type": "execute_result"
    }
   ],
   "source": [
    "round(np.sum(df_select['intra_volume（MWh/h）']*1000)/np.sum(df_select['spot_volume(kWh)'])*100,1)"
   ]
  },
  {
   "cell_type": "code",
   "execution_count": 14,
   "metadata": {},
   "outputs": [
    {
     "data": {
      "text/plain": [
       "3.0"
      ]
     },
     "execution_count": 14,
     "metadata": {},
     "output_type": "execute_result"
    }
   ],
   "source": [
    "percent_list=[]\n",
    "round(np.sum(df['intra_volume（MWh/h）']*1000)/np.sum(df['spot_volume(kWh)'])*100,1)"
   ]
  },
  {
   "cell_type": "code",
   "execution_count": 17,
   "metadata": {},
   "outputs": [
    {
     "data": {
      "text/plain": [
       "[2.0, 1.5, 2.5, 2.3, 3.0]"
      ]
     },
     "execution_count": 17,
     "metadata": {},
     "output_type": "execute_result"
    }
   ],
   "source": [
    "percent_list"
   ]
  },
  {
   "cell_type": "code",
   "execution_count": 21,
   "metadata": {},
   "outputs": [
    {
     "data": {
      "text/plain": [
       "[3112288300.0, 4273603100.0, 7854085100.0, 7496742200.0, 9562243100.0]"
      ]
     },
     "execution_count": 21,
     "metadata": {},
     "output_type": "execute_result"
    }
   ],
   "source": [
    "intra_total_mean"
   ]
  },
  {
   "cell_type": "code",
   "execution_count": null,
   "metadata": {},
   "outputs": [],
   "source": []
  },
  {
   "cell_type": "code",
   "execution_count": 69,
   "metadata": {},
   "outputs": [
    {
     "data": {
      "text/plain": [
       "array([3112.2883    , 4273.6031    , 7854.0851    , 7496.7422    ,\n",
       "       9562.2431    , 5406.85518333])"
      ]
     },
     "execution_count": 69,
     "metadata": {},
     "output_type": "execute_result"
    }
   ],
   "source": [
    "np.array(intra_total_mean)/1000/1000"
   ]
  },
  {
   "cell_type": "code",
   "execution_count": null,
   "metadata": {},
   "outputs": [],
   "source": []
  },
  {
   "cell_type": "code",
   "execution_count": null,
   "metadata": {},
   "outputs": [],
   "source": []
  },
  {
   "cell_type": "code",
   "execution_count": null,
   "metadata": {},
   "outputs": [],
   "source": []
  },
  {
   "cell_type": "code",
   "execution_count": null,
   "metadata": {},
   "outputs": [],
   "source": []
  },
  {
   "cell_type": "code",
   "execution_count": null,
   "metadata": {},
   "outputs": [],
   "source": []
  },
  {
   "cell_type": "code",
   "execution_count": null,
   "metadata": {},
   "outputs": [],
   "source": []
  },
  {
   "cell_type": "code",
   "execution_count": 36,
   "metadata": {},
   "outputs": [
    {
     "ename": "TypeError",
     "evalue": "subplot() takes 1 or 3 positional arguments but 2 were given",
     "output_type": "error",
     "traceback": [
      "\u001b[0;31m---------------------------------------------------------------------------\u001b[0m",
      "\u001b[0;31mTypeError\u001b[0m                                 Traceback (most recent call last)",
      "Cell \u001b[0;32mIn [36], line 3\u001b[0m\n\u001b[1;32m      1\u001b[0m years \u001b[39m=\u001b[39m np\u001b[39m.\u001b[39marray(years,dtype\u001b[39m=\u001b[39m\u001b[39m'\u001b[39m\u001b[39mstr\u001b[39m\u001b[39m'\u001b[39m)\n\u001b[1;32m      2\u001b[0m plt\u001b[39m.\u001b[39mbar(years,intra_total_mean)\n\u001b[0;32m----> 3\u001b[0m plt\u001b[39m.\u001b[39;49msubplot(years,percent_list)\n\u001b[1;32m      4\u001b[0m plt\u001b[39m.\u001b[39mshow()\n",
      "File \u001b[0;32m~/miniforge3/envs/DSenv385/lib/python3.8/site-packages/matplotlib/pyplot.py:1252\u001b[0m, in \u001b[0;36msubplot\u001b[0;34m(*args, **kwargs)\u001b[0m\n\u001b[1;32m   1249\u001b[0m fig \u001b[39m=\u001b[39m gcf()\n\u001b[1;32m   1251\u001b[0m \u001b[39m# First, search for an existing subplot with a matching spec.\u001b[39;00m\n\u001b[0;32m-> 1252\u001b[0m key \u001b[39m=\u001b[39m SubplotSpec\u001b[39m.\u001b[39;49m_from_subplot_args(fig, args)\n\u001b[1;32m   1254\u001b[0m \u001b[39mfor\u001b[39;00m ax \u001b[39min\u001b[39;00m fig\u001b[39m.\u001b[39maxes:\n\u001b[1;32m   1255\u001b[0m     \u001b[39m# if we found an Axes at the position sort out if we can re-use it\u001b[39;00m\n\u001b[1;32m   1256\u001b[0m     \u001b[39mif\u001b[39;00m \u001b[39mhasattr\u001b[39m(ax, \u001b[39m'\u001b[39m\u001b[39mget_subplotspec\u001b[39m\u001b[39m'\u001b[39m) \u001b[39mand\u001b[39;00m ax\u001b[39m.\u001b[39mget_subplotspec() \u001b[39m==\u001b[39m key:\n\u001b[1;32m   1257\u001b[0m         \u001b[39m# if the user passed no kwargs, re-use\u001b[39;00m\n",
      "File \u001b[0;32m~/miniforge3/envs/DSenv385/lib/python3.8/site-packages/matplotlib/gridspec.py:598\u001b[0m, in \u001b[0;36mSubplotSpec._from_subplot_args\u001b[0;34m(figure, args)\u001b[0m\n\u001b[1;32m    596\u001b[0m     rows, cols, num \u001b[39m=\u001b[39m args\n\u001b[1;32m    597\u001b[0m \u001b[39melse\u001b[39;00m:\n\u001b[0;32m--> 598\u001b[0m     \u001b[39mraise\u001b[39;00m \u001b[39mTypeError\u001b[39;00m(\u001b[39mf\u001b[39m\u001b[39m\"\u001b[39m\u001b[39msubplot() takes 1 or 3 positional arguments but \u001b[39m\u001b[39m\"\u001b[39m\n\u001b[1;32m    599\u001b[0m                     \u001b[39mf\u001b[39m\u001b[39m\"\u001b[39m\u001b[39m{\u001b[39;00m\u001b[39mlen\u001b[39m(args)\u001b[39m}\u001b[39;00m\u001b[39m were given\u001b[39m\u001b[39m\"\u001b[39m)\n\u001b[1;32m    601\u001b[0m gs \u001b[39m=\u001b[39m GridSpec\u001b[39m.\u001b[39m_check_gridspec_exists(figure, rows, cols)\n\u001b[1;32m    602\u001b[0m \u001b[39mif\u001b[39;00m gs \u001b[39mis\u001b[39;00m \u001b[39mNone\u001b[39;00m:\n",
      "\u001b[0;31mTypeError\u001b[0m: subplot() takes 1 or 3 positional arguments but 2 were given"
     ]
    },
    {
     "data": {
      "image/png": "[encoded data removed]",
      "text/plain": [
       "<Figure size 640x480 with 1 Axes>"
      ]
     },
     "metadata": {},
     "output_type": "display_data"
    }
   ],
   "source": [
    "years = np.array(years,dtype='str')\n",
    "plt.bar(years,intra_total_mean)\n",
    "plt.subplot(years,percent_list)\n",
    "plt.show()"
   ]
  },
  {
   "cell_type": "code",
   "execution_count": null,
   "metadata": {},
   "outputs": [],
   "source": []
  },
  {
   "cell_type": "code",
   "execution_count": null,
   "metadata": {},
   "outputs": [],
   "source": []
  },
  {
   "cell_type": "code",
   "execution_count": null,
   "metadata": {},
   "outputs": [],
   "source": []
  },
  {
   "cell_type": "code",
   "execution_count": null,
   "metadata": {},
   "outputs": [],
   "source": []
  },
  {
   "cell_type": "code",
   "execution_count": null,
   "metadata": {},
   "outputs": [],
   "source": []
  },
  {
   "cell_type": "code",
   "execution_count": null,
   "metadata": {},
   "outputs": [],
   "source": []
  }
 ],
 "metadata": {
  "kernelspec": {
   "display_name": "DSenv385",
   "language": "python",
   "name": "python3"
  },
  "language_info": {
   "codemirror_mode": {
    "name": "ipython",
    "version": 3
   },
   "file_extension": ".py",
   "mimetype": "text/x-python",
   "name": "python",
   "nbconvert_exporter": "python",
   "pygments_lexer": "ipython3",
   "version": "3.8.5"
  },
  "orig_nbformat": 4,
  "vscode": {
   "interpreter": {
    "hash": "1b1aaf8a42836e3895a9cd252df1a8ea4976aa90d70af21ad1836309bd18b848"
   }
  }
 },
 "nbformat": 4,
 "nbformat_minor": 2
}
